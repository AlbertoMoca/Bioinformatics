{
 "cells": [
  {
   "cell_type": "code",
   "execution_count": 3,
   "metadata": {},
   "outputs": [],
   "source": [
    "import numpy as np\n",
    "from tqdm import tqdm\n"
   ]
  },
  {
   "cell_type": "code",
   "execution_count": 4,
   "metadata": {},
   "outputs": [],
   "source": [
    "f = open(\"abc.txt\",\"r\")\n",
    "f1 = f.read()\n",
    "data = f1.replace('\\n','').split('>')[1:]"
   ]
  },
  {
   "cell_type": "code",
   "execution_count": 5,
   "metadata": {},
   "outputs": [],
   "source": [
    "data = [i[13:] for i in data]"
   ]
  },
  {
   "cell_type": "code",
   "execution_count": 6,
   "metadata": {},
   "outputs": [],
   "source": [
    "samples = data"
   ]
  },
  {
   "cell_type": "code",
   "execution_count": 7,
   "metadata": {},
   "outputs": [],
   "source": [
    "def segments(string):\n",
    "    segments_list = []\n",
    "    for i in range(1,len(string)-1):\n",
    "        segments_list.append(np.unique([string[j:j+i+1] for j in range(len(string)-i)]))\n",
    "    return segments_list"
   ]
  },
  {
   "cell_type": "code",
   "execution_count": 10,
   "metadata": {},
   "outputs": [],
   "source": [
    "common_repeats = segments(samples[0])"
   ]
  },
  {
   "cell_type": "code",
   "execution_count": 11,
   "metadata": {},
   "outputs": [
    {
     "name": "stderr",
     "output_type": "stream",
     "text": [
      "100%|██████████| 99/99 [01:48<00:00,  1.10s/it]\n"
     ]
    }
   ],
   "source": [
    "for k in tqdm(range(1, len(samples))):\n",
    "    \n",
    "    new_sample = segments(samples[k])[:len(common_repeats)]\n",
    "    #print(new_sample)\n",
    "    #print(new_sample)\n",
    "    common_repeats = common_repeats[:len(new_sample)]\n",
    "    new_common = []\n",
    "    for i in range(len(common_repeats)):\n",
    "        \n",
    "        #print('-'*30)\n",
    "        #print(common_repeats[i])\n",
    "        #print(new_sample[i])\n",
    "        new_common.append([j for j in common_repeats[i] if j in new_sample[i]])\n",
    "    #print(k)\n",
    "    #print(new_common)\n",
    "    #print('*'*30)\n",
    "    common_repeats = [i for i in new_common if len(i)!=0]"
   ]
  },
  {
   "cell_type": "code",
   "execution_count": null,
   "metadata": {},
   "outputs": [],
   "source": []
  }
 ],
 "metadata": {
  "kernelspec": {
   "display_name": "Python 3",
   "language": "python",
   "name": "python3"
  },
  "language_info": {
   "codemirror_mode": {
    "name": "ipython",
    "version": 3
   },
   "file_extension": ".py",
   "mimetype": "text/x-python",
   "name": "python",
   "nbconvert_exporter": "python",
   "pygments_lexer": "ipython3",
   "version": "3.8.6"
  }
 },
 "nbformat": 4,
 "nbformat_minor": 4
}
